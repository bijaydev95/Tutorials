{
  "nbformat": 4,
  "nbformat_minor": 0,
  "metadata": {
    "colab": {
      "name": "SVM.ipynb",
      "version": "0.3.2",
      "provenance": [],
      "collapsed_sections": []
    },
    "kernelspec": {
      "name": "python3",
      "display_name": "Python 3"
    }
  },
  "cells": [
    {
      "cell_type": "code",
      "metadata": {
        "id": "VV0crCEOpJO7",
        "colab_type": "code",
        "colab": {}
      },
      "source": [
        "#for math operations\n",
        "import numpy as np\n",
        "#for plotting graph\n",
        "from matplotlib import pyplot as plt\n",
        "%matplotlib inline\n"
      ],
      "execution_count": 0,
      "outputs": []
    },
    {
      "cell_type": "code",
      "metadata": {
        "id": "1_Pi3I8HrOtK",
        "colab_type": "code",
        "colab": {
          "base_uri": "https://localhost:8080/",
          "height": 286
        },
        "outputId": "da68eedb-75bf-4d73-af55-0655949e1eb8"
      },
      "source": [
        "#define the toy data\n",
        "#data = (xvalue, yvalue, bias)\n",
        "X = np.array([\n",
        "    [-2,4,-1],\n",
        "    [4,1,-1],\n",
        "    [1, 6, -1],\n",
        "    [2, 4, -1],\n",
        "    [6, 2, -1],\n",
        "])\n",
        "\n",
        "#labels of the above toy data\n",
        "Y = np.array([-1,-1,1,1,1])\n",
        "\n",
        "for d,sample in enumerate(X):\n",
        "  #plot first 2 data points (negative case)\n",
        "  if d < 2:\n",
        "    plt.scatter(sample[0], sample[1], s=120, marker='_', linewidths = 2)\n",
        "  else:\n",
        "    #plot last 3 data points(positive case)\n",
        "    plt.scatter(sample[0], sample[1], s=120, marker='+', linewidths = 2)\n",
        "    \n",
        "#plot a hyperplane using random guess of 2 points\n",
        "plt.plot([-2,6],[6,0.5])    "
      ],
      "execution_count": 2,
      "outputs": [
        {
          "output_type": "execute_result",
          "data": {
            "text/plain": [
              "[<matplotlib.lines.Line2D at 0x7fc86dea46d8>]"
            ]
          },
          "metadata": {
            "tags": []
          },
          "execution_count": 2
        },
        {
          "output_type": "display_data",
          "data": {
            "image/png": "[encoded data removed]",
            "text/plain": [
              "<Figure size 432x288 with 1 Axes>"
            ]
          },
          "metadata": {
            "tags": []
          }
        }
      ]
    },
    {
      "cell_type": "code",
      "metadata": {
        "id": "cHLt6vKvtHlz",
        "colab_type": "code",
        "colab": {}
      },
      "source": [
        "#sgd (stochastic gradient descent) function to find the optimal hyperplane\n",
        "def sgd_svm(X, Y):\n",
        "  #initialize SVM's weight with zeros.\n",
        "  w = np.zeros(len(X[0]))\n",
        "  #learning rate\n",
        "  lr = 1\n",
        "  #no of epochs\n",
        "  epochs = 10000\n",
        "  #misclassified data\n",
        "  errors = []\n",
        "  \n",
        "  #gradient descent\n",
        "  for epoch in range(1, epochs):\n",
        "    error = 0\n",
        "    for i, x in enumerate(X):\n",
        "      #misclassification case\n",
        "      if(Y[i]*np.dot(X[i], w) < 1):\n",
        "        w = w + lr * ((X[i] * Y[i]) - 2 * (1/epoch) * w)\n",
        "        error = 1\n",
        "      else:\n",
        "        #correct classification\n",
        "        w = w + lr * (- 2 * (1/epoch) * w)\n",
        "    errors.append(error)\n",
        "    \n",
        "  #plot misclassification errors\n",
        "  plt.plot(errors, '|')\n",
        "  plt.ylim(0.5,1.5)\n",
        "  plt.axes().set_yticklabels([])\n",
        "  plt.xlabel('Epoch')\n",
        "  plt.ylabel('Misclassified')\n",
        "  plt.show()\n",
        "    \n",
        "  return w"
      ],
      "execution_count": 0,
      "outputs": []
    },
    {
      "cell_type": "code",
      "metadata": {
        "id": "WxNxE6QGyr5T",
        "colab_type": "code",
        "colab": {
          "base_uri": "https://localhost:8080/",
          "height": 354
        },
        "outputId": "f71c4df4-b8c5-4c73-e34d-d7db2e5f5203"
      },
      "source": [
        "w = sgd_svm(X,Y)\n",
        "#SVM is learning the optimal hyperplane"
      ],
      "execution_count": 9,
      "outputs": [
        {
          "output_type": "stream",
          "text": [
            "/usr/local/lib/python3.6/dist-packages/matplotlib/figure.py:98: MatplotlibDeprecationWarning: \n",
            "Adding an axes using the same arguments as a previous axes currently reuses the earlier instance.  In a future version, a new instance will always be created and returned.  Meanwhile, this warning can be suppressed, and the future behavior ensured, by passing a unique label to each axes instance.\n",
            "  \"Adding an axes using the same arguments as a previous axes \"\n"
          ],
          "name": "stderr"
        },
        {
          "output_type": "display_data",
          "data": {
            "image/png": "[encoded data removed]",
            "text/plain": [
              "<Figure size 432x288 with 1 Axes>"
            ]
          },
          "metadata": {
            "tags": []
          }
        }
      ]
    },
    {
      "cell_type": "code",
      "metadata": {
        "id": "sEIUlmV9xkba",
        "colab_type": "code",
        "colab": {
          "base_uri": "https://localhost:8080/",
          "height": 286
        },
        "outputId": "5ceee900-ea77-43f6-be9d-a63c4c95c2b4"
      },
      "source": [
        "for d, sample in enumerate(X):\n",
        "    # Plot the negative samples\n",
        "    if d < 2:\n",
        "        plt.scatter(sample[0], sample[1], s=120, marker='_', linewidths=2)\n",
        "    # Plot the positive samples\n",
        "    else:\n",
        "        plt.scatter(sample[0], sample[1], s=120, marker='+', linewidths=2)\n",
        "\n",
        "# Add our test samples\n",
        "plt.scatter(2,2, s=120, marker='_', linewidths=2, color='yellow')\n",
        "plt.scatter(4,3, s=120, marker='+', linewidths=2, color='blue')\n",
        "\n",
        "#print the hyperplane\n",
        "x2=[w[0],w[1],-w[1],w[0]]\n",
        "x3=[w[0],w[1],w[1],-w[0]]\n",
        "\n",
        "x2x3 =np.array([x2,x3])\n",
        "X,Y,U,V = zip(*x2x3)\n",
        "ax = plt.gca()\n",
        "ax.quiver(X,Y,U,V,scale=1, color='blue')"
      ],
      "execution_count": 10,
      "outputs": [
        {
          "output_type": "execute_result",
          "data": {
            "text/plain": [
              "<matplotlib.quiver.Quiver at 0x7fc86b440898>"
            ]
          },
          "metadata": {
            "tags": []
          },
          "execution_count": 10
        },
        {
          "output_type": "display_data",
          "data": {
            "image/png": "[encoded data removed]",
            "text/plain": [
              "<Figure size 432x288 with 1 Axes>"
            ]
          },
          "metadata": {
            "tags": []
          }
        }
      ]
    },
    {
      "cell_type": "code",
      "metadata": {
        "id": "U6ey39PByXHw",
        "colab_type": "code",
        "colab": {}
      },
      "source": [
        ""
      ],
      "execution_count": 0,
      "outputs": []
    }
  ]
}